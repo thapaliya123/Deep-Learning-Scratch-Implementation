{
  "nbformat": 4,
  "nbformat_minor": 0,
  "metadata": {
    "colab": {
      "name": "creating_training_dataset.ipynb",
      "provenance": [],
      "collapsed_sections": [],
      "toc_visible": true,
      "authorship_tag": "ABX9TyOytrT1O8AFypfnRt6Euaju",
      "include_colab_link": true
    },
    "kernelspec": {
      "name": "python3",
      "display_name": "Python 3"
    }
  },
  "cells": [
    {
      "cell_type": "markdown",
      "metadata": {
        "id": "view-in-github",
        "colab_type": "text"
      },
      "source": [
        "<a href=\"https://colab.research.google.com/github/thapaliya123/cat_dog_predictions/blob/master/creating_training_dataset.ipynb\" target=\"_parent\"><img src=\"https://colab.research.google.com/assets/colab-badge.svg\" alt=\"Open In Colab\"/></a>"
      ]
    },
    {
      "cell_type": "code",
      "metadata": {
        "id": "mVlsobzVYZ-a",
        "colab_type": "code",
        "colab": {
          "base_uri": "https://localhost:8080/",
          "height": 122
        },
        "outputId": "9ed40ce2-e95e-4647-99d4-2c3802cf72d0"
      },
      "source": [
        "#google drive mount\n",
        "from google.colab import drive\n",
        "\n",
        "drive.mount('/content/gdrive')"
      ],
      "execution_count": null,
      "outputs": [
        {
          "output_type": "stream",
          "text": [
            "Go to this URL in a browser: https://accounts.google.com/o/oauth2/auth?client_id=947318989803-6bn6qk8qdgf4n4g3pfee6491hc0brc4i.apps.googleusercontent.com&redirect_uri=urn%3aietf%3awg%3aoauth%3a2.0%3aoob&response_type=code&scope=email%20https%3a%2f%2fwww.googleapis.com%2fauth%2fdocs.test%20https%3a%2f%2fwww.googleapis.com%2fauth%2fdrive%20https%3a%2f%2fwww.googleapis.com%2fauth%2fdrive.photos.readonly%20https%3a%2f%2fwww.googleapis.com%2fauth%2fpeopleapi.readonly\n",
            "\n",
            "Enter your authorization code:\n",
            "··········\n",
            "Mounted at /content/gdrive\n"
          ],
          "name": "stdout"
        }
      ]
    },
    {
      "cell_type": "code",
      "metadata": {
        "id": "YiXV4OYmhxPk",
        "colab_type": "code",
        "colab": {}
      },
      "source": [
        "from matplotlib import pyplot as plt\n",
        "import os\n",
        "import cv2\n",
        "import numpy as np\n",
        "\n",
        "DATADIR_TR = \"/content/gdrive/My Drive/colab_notebooks_deeplearning_prac/cats_dogs_predictions/datasets/training_set\" #training_data_path_in_gdrive\n",
        "DATADIR_TEST = \"/content/gdrive/My Drive/colab_notebooks_deeplearning_prac/cats_dogs_predictions/datasets/test_set\" #testing_data_path_in_gdrive\n",
        "CATEGORIES = ['cats', 'dogs']\n"
      ],
      "execution_count": null,
      "outputs": []
    },
    {
      "cell_type": "code",
      "metadata": {
        "id": "eGhWgcoy1OE3",
        "colab_type": "code",
        "colab": {}
      },
      "source": [
        "#create dataset from given path return result as array\n",
        "def create_dataset(dataset_path, CATEGORIES, IMG_SIZE):\n",
        "  data = []\n",
        "  for category in CATEGORIES:\n",
        "    class_path = os.path.join(dataset_path, category)\n",
        "    class_num = CATEGORIES.index(category)\n",
        "    for img in os.listdir(class_path):\n",
        "      try:\n",
        "        image_array = cv2.imread(os.path.join(class_path, img))\n",
        "        image_array = cv2.resize(image_array, (IMG_SIZE, IMG_SIZE))\n",
        "        data.append([image_array, class_num])\n",
        "\n",
        "      except Exception as e:\n",
        "        pass\n",
        "  return data"
      ],
      "execution_count": null,
      "outputs": []
    },
    {
      "cell_type": "code",
      "metadata": {
        "id": "sPpTJTDX2hV6",
        "colab_type": "code",
        "colab": {
          "base_uri": "https://localhost:8080/",
          "height": 51
        },
        "outputId": "ac185479-7b01-4f54-dc45-c11056c6b820"
      },
      "source": [
        "#creating_training_dataset\n",
        "IMG_SIZE = 128\n",
        "print(\"creating training dataset!!!\")\n",
        "training_data = create_dataset(DATADIR_TR, CATEGORIES, IMG_SIZE)\n",
        "print(\"training dataset created...\")"
      ],
      "execution_count": null,
      "outputs": [
        {
          "output_type": "stream",
          "text": [
            "creating training dataset!!!\n",
            "training dataset created...\n"
          ],
          "name": "stdout"
        }
      ]
    },
    {
      "cell_type": "code",
      "metadata": {
        "id": "-RXCkLIW3Irg",
        "colab_type": "code",
        "colab": {
          "base_uri": "https://localhost:8080/",
          "height": 51
        },
        "outputId": "346286ec-0046-4823-a850-6e893e26fdef"
      },
      "source": [
        "#creating_testing_dataset\n",
        "IMG_SIZE = 128\n",
        "print(\"creating testing dataset!!!\")\n",
        "testing_data = create_dataset(DATADIR_TEST, CATEGORIES, IMG_SIZE)\n",
        "print(\"testing dataset created...\")"
      ],
      "execution_count": null,
      "outputs": [
        {
          "output_type": "stream",
          "text": [
            "creating testing dataset!!!\n",
            "testing dataset created...\n"
          ],
          "name": "stdout"
        }
      ]
    },
    {
      "cell_type": "code",
      "metadata": {
        "id": "O7w31R286Cem",
        "colab_type": "code",
        "colab": {}
      },
      "source": [
        "#prepare created datasets into feature and labels\n",
        "import random\n",
        "def feature_labels_separation(data, type, IMG_SIZE):\n",
        "  random.shuffle(data)\n",
        "  if(type==\"train\"):\n",
        "    X_train = []\n",
        "    Y_train = []\n",
        "    for feature, label in data:\n",
        "      X_train.append(feature)\n",
        "      Y_train.append(label)\n",
        "    \n",
        "    X_train = np.array(X_train).reshape(-1, IMG_SIZE, IMG_SIZE, 3)\n",
        "    X_train = X_train.reshape(X_train.shape[0], -1).T\n",
        "\n",
        "    Y_train = np.array(Y_train)\n",
        "    Y_train = Y_train.reshape(Y_train.shape[0], -1).T\n",
        "    return X_train, Y_train\n",
        "  elif(type==\"valid\"):\n",
        "    pass\n",
        "  \n",
        "  else:\n",
        "    X_test = []\n",
        "    Y_test = []\n",
        "    \n",
        "    for feature, label in data:\n",
        "      X_test.append(feature)\n",
        "      Y_test.append(label)\n",
        "    \n",
        "    X_test = np.array(X_test).reshape(-1, IMG_SIZE, IMG_SIZE, 3)\n",
        "    X_test = X_test.reshape(X_test.shape[0], -1).T\n",
        "\n",
        "    Y_test = np.array(Y_test)\n",
        "    Y_test = Y_test.reshape(Y_test.shape[0], -1).T\n",
        "    # print(X_test.shape)\n",
        "    # print(Y_test.shape)\n",
        "\n",
        "    return X_test,Y_test\n"
      ],
      "execution_count": null,
      "outputs": []
    },
    {
      "cell_type": "code",
      "metadata": {
        "id": "yy_f5kmfMCnf",
        "colab_type": "code",
        "colab": {
          "base_uri": "https://localhost:8080/",
          "height": 85
        },
        "outputId": "adf08b6c-36fd-4097-9a11-328f5af4b108"
      },
      "source": [
        "print(\"separating features and labels from the training data\")\n",
        "X_train, Y_train = feature_labels_separation(training_data, \"train\", IMG_SIZE=128)\n",
        "print(\"separated features and labels from the data...\")\n",
        "print(X_train.shape)\n",
        "print(Y_train.shape)"
      ],
      "execution_count": null,
      "outputs": [
        {
          "output_type": "stream",
          "text": [
            "separating features and labels from the training data\n",
            "separated features and labels from the data...\n",
            "(49152, 8014)\n",
            "(1, 8014)\n"
          ],
          "name": "stdout"
        }
      ]
    },
    {
      "cell_type": "code",
      "metadata": {
        "id": "FmnDVRR5_01I",
        "colab_type": "code",
        "colab": {
          "base_uri": "https://localhost:8080/",
          "height": 119
        },
        "outputId": "43f9ebfc-ae43-4d50-fd7b-8e0f58398fd9"
      },
      "source": [
        "print(\"separating features and labels from the data!!!!\")\n",
        "X_test, Y_test = feature_labels_separation(testing_data, \"test\", IMG_SIZE=128)\n",
        "print(\"separated features and labels from the data...\")\n",
        "print(X_test.shape)\n",
        "print(Y_test.shape)"
      ],
      "execution_count": null,
      "outputs": [
        {
          "output_type": "stream",
          "text": [
            "separating features and labels from the data!!!!\n",
            "(49152, 2022)\n",
            "(1, 2022)\n",
            "separated features and labels from the data...\n",
            "(49152, 2022)\n",
            "(1, 2022)\n"
          ],
          "name": "stdout"
        }
      ]
    },
    {
      "cell_type": "code",
      "metadata": {
        "id": "wbnFNPfAA0Tu",
        "colab_type": "code",
        "colab": {}
      },
      "source": [
        "#save created data into pickle file\n",
        "import pickle\n",
        "\n",
        "def save_data(dest_path, filename, data, extension):\n",
        "  '''\n",
        "  Saves data into the pickle file in the path passed as argument\n",
        "\n",
        "  Arguments:\n",
        "  dest_path -- destination path where data needs to be saved\n",
        "  filename -- filename where data needs to be saved(e.g. X_train.pickle)\n",
        "  '''\n",
        "\n",
        "  pickle_out = open(dest_path+filename+extension, \"wb\")\n",
        "  pickle.dump(data, pickle_out)\n",
        "  pickle_out.close"
      ],
      "execution_count": null,
      "outputs": []
    },
    {
      "cell_type": "code",
      "metadata": {
        "id": "tdG109G3DxKr",
        "colab_type": "code",
        "colab": {
          "base_uri": "https://localhost:8080/",
          "height": 51
        },
        "outputId": "919d9e7f-da33-46ae-e8f0-2a49120f58e0"
      },
      "source": [
        "#saving created testing data\n",
        "data_save_path = \"/content/gdrive/My Drive/colab_notebooks_deeplearning_prac/cats_dogs_predictions/\"\n",
        "extension = \".pickle\"\n",
        "print(\"saving_data!!!!\")\n",
        "save_data(data_save_path,\"X_test\", X_test, extension) #saving_features\n",
        "save_data(data_save_path,\"Y_test\", Y_test, extension) #saving_labels\n",
        "print(\"saved_data...\")"
      ],
      "execution_count": null,
      "outputs": [
        {
          "output_type": "stream",
          "text": [
            "saving_data!!!!\n",
            "saved_data...\n"
          ],
          "name": "stdout"
        }
      ]
    },
    {
      "cell_type": "code",
      "metadata": {
        "id": "4JgQcm93JQfK",
        "colab_type": "code",
        "colab": {
          "base_uri": "https://localhost:8080/",
          "height": 51
        },
        "outputId": "391019f8-23f5-4d28-c8c3-289298ed2909"
      },
      "source": [
        "#saving created training data\n",
        "data_save_path = \"/content/gdrive/My Drive/colab_notebooks_deeplearning_prac/cats_dogs_predictions/\"\n",
        "extension = \".pickle\"\n",
        "print(\"saving_training_data!!!\")\n",
        "save_data(data_save_path, \"X_train\", X_train, extension) #saving_features\n",
        "save_data(data_save_path, \"Y_train\", Y_train, extension) #saving_labels\n",
        "print(\"saved_training_data...\")"
      ],
      "execution_count": null,
      "outputs": [
        {
          "output_type": "stream",
          "text": [
            "saving_training_data!!!\n",
            "saved_training_data...\n"
          ],
          "name": "stdout"
        }
      ]
    },
    {
      "cell_type": "code",
      "metadata": {
        "id": "T9eWACbdvDqz",
        "colab_type": "code",
        "colab": {
          "base_uri": "https://localhost:8080/",
          "height": 34
        },
        "outputId": "1efe1926-5a8e-46f4-a892-1537af48d150"
      },
      "source": [
        "#reading_pickle_file\n",
        "import pickle\n",
        "\n",
        "pickle_in = open(\"/content/gdrive/My Drive/colab_notebooks_deeplearning_prac/cats_dogs_predictions/X_train.pickle\", \"rb\")\n",
        "x_training1 = pickle.load(pickle_in)\n",
        "print(x_training1.shape)"
      ],
      "execution_count": null,
      "outputs": [
        {
          "output_type": "stream",
          "text": [
            "(49152, 8014)\n"
          ],
          "name": "stdout"
        }
      ]
    }
  ]
}