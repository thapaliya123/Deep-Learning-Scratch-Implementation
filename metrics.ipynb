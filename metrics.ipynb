{
  "nbformat": 4,
  "nbformat_minor": 0,
  "metadata": {
    "colab": {
      "name": "metrics.ipynb",
      "provenance": [],
      "collapsed_sections": [],
      "authorship_tag": "ABX9TyOg1TLnXAFY9Y9+IMyj0OFe",
      "include_colab_link": true
    },
    "kernelspec": {
      "name": "python3",
      "display_name": "Python 3"
    }
  },
  "cells": [
    {
      "cell_type": "markdown",
      "metadata": {
        "id": "view-in-github",
        "colab_type": "text"
      },
      "source": [
        "<a href=\"https://colab.research.google.com/github/thapaliya123/cat_dog_predictions/blob/master/metrics.ipynb\" target=\"_parent\"><img src=\"https://colab.research.google.com/assets/colab-badge.svg\" alt=\"Open In Colab\"/></a>"
      ]
    },
    {
      "cell_type": "code",
      "metadata": {
        "id": "ZVjRJxMCbX3n",
        "colab_type": "code",
        "colab": {}
      },
      "source": [
        "from matplotlib import pyplot as plt\n",
        "#plotting_cost_w.r.t_iterations\n",
        "def plot_cost(costs):\n",
        "  '''\n",
        "  plot costs for each iteration\n",
        "\n",
        "  Arguments:\n",
        "  costs -- list containing cost of different epoch\n",
        "  '''\n",
        "  plt.plot(costs)\n",
        "  plt.ylabel(\"cost\")\n",
        "  plt.xlabel(\"per iteraions\")\n",
        "  plt.title(\"Learning rate = \"+str(0.01))\n",
        "  plt.show"
      ],
      "execution_count": null,
      "outputs": []
    },
    {
      "cell_type": "code",
      "metadata": {
        "id": "s8_Zx4mBcJsm",
        "colab_type": "code",
        "colab": {}
      },
      "source": [
        "import numpy as np\n",
        "#calculate_accuracy\n",
        "def calculate_accuracy(true_labels, predictions, type):\n",
        "  '''\n",
        "  Calculate accuracy of the models\n",
        "\n",
        "  Arguments:\n",
        "  true_labels -- contains true labels of the datasets\n",
        "  predictions -- contains predicted value from the data sets\n",
        "  type -- type of accuracy i.e train  or validation or test accuracy\n",
        "\n",
        "  Returns:\n",
        "  accuracy -- accuracy calculated using true_labels and predictions value by the model\n",
        "  '''\n",
        "  accuracy = ('accuracy: %d' % float((np.dot(true_labels,predictions.T) + np.dot(1-true_labels,1-predictions.T))/float(true_labels.size)*100) + '%')\n",
        "  return type+\"_\"+accuracy"
      ],
      "execution_count": null,
      "outputs": []
    }
  ]
}