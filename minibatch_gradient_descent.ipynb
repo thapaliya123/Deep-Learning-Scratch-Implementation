{
  "nbformat": 4,
  "nbformat_minor": 0,
  "metadata": {
    "colab": {
      "name": "minibatch_gradient_descent.ipynb",
      "provenance": [],
      "collapsed_sections": [],
      "machine_shape": "hm",
      "authorship_tag": "ABX9TyPjXjSZfeRCCRgruCuBqD9E",
      "include_colab_link": true
    },
    "kernelspec": {
      "name": "python3",
      "display_name": "Python 3"
    }
  },
  "cells": [
    {
      "cell_type": "markdown",
      "metadata": {
        "id": "view-in-github",
        "colab_type": "text"
      },
      "source": [
        "<a href=\"https://colab.research.google.com/github/thapaliya123/cat_dog_predictions/blob/master/minibatch_gradient_descent.ipynb\" target=\"_parent\"><img src=\"https://colab.research.google.com/assets/colab-badge.svg\" alt=\"Open In Colab\"/></a>"
      ]
    },
    {
      "cell_type": "code",
      "metadata": {
        "id": "nWhaNxJHNcMU",
        "colab_type": "code",
        "outputId": "44f31e76-c3e0-4a76-c5f5-c4e1a4096a53",
        "colab": {
          "base_uri": "https://localhost:8080/",
          "height": 34
        }
      },
      "source": [
        "from google.colab import drive \n",
        "drive.mount(\"/content/gdrive\")"
      ],
      "execution_count": 0,
      "outputs": [
        {
          "output_type": "stream",
          "text": [
            "Drive already mounted at /content/gdrive; to attempt to forcibly remount, call drive.mount(\"/content/gdrive\", force_remount=True).\n"
          ],
          "name": "stdout"
        }
      ]
    },
    {
      "cell_type": "code",
      "metadata": {
        "id": "i7qmwfw4NoBR",
        "colab_type": "code",
        "colab": {}
      },
      "source": [
        "#import_files_from_gdrive\n",
        "def import_files_from_gdrive(file_id, file_name):\n",
        "  # STEP-1: Import Libraries\n",
        "  !pip install import-ipynb\n",
        "  import import_ipynb\n",
        "\n",
        "  !pip install -U -q PyDrive\n",
        "  from pydrive.auth import GoogleAuth\n",
        "  from pydrive.drive import GoogleDrive\n",
        "  from google.colab import auth\n",
        "  from oauth2client.client import GoogleCredentials\n",
        "\n",
        "  # STEP-2: Autheticate E-Mail IDcom\n",
        "  auth.authenticate_user()\n",
        "  gauth = GoogleAuth()\n",
        "  gauth.credentials = GoogleCredentials.get_application_default()\n",
        "  drive = GoogleDrive(gauth)\n",
        "\n",
        "  # STEP-3: Get File from Drive using file-ID\n",
        "  #2.1 Get the files\n",
        "  downloaded = drive.CreateFile({'id':'{}'.format(file_id)}) # replace the id with id of file you want to access\n",
        "  downloaded.GetContentFile('{}'.format(file_name)) "
      ],
      "execution_count": 0,
      "outputs": []
    },
    {
      "cell_type": "code",
      "metadata": {
        "id": "BNTHLyZqOa2t",
        "colab_type": "code",
        "outputId": "29120ca3-bd01-4d5c-e0c9-154ebafb0080",
        "colab": {
          "base_uri": "https://localhost:8080/",
          "height": 51
        }
      },
      "source": [
        "#import_files \"reg_utils.ipynb\" from google drive\n",
        "import_files_from_gdrive(\"1U65N9U_E517DZjgtlGQ61SGfVKc8f8Do\", \"reg_utils.ipynb\") #passing file_id, file_name stored in google drive\n",
        "\n",
        "#reloading imported files to reflect changes in the files\n",
        "import reg_utils\n",
        "from importlib import reload  # Py3 only; unneeded in py2.\n",
        "reg_utils = reload(reg_utils)"
      ],
      "execution_count": 0,
      "outputs": [
        {
          "output_type": "stream",
          "text": [
            "Requirement already satisfied: import-ipynb in /usr/local/lib/python3.6/dist-packages (0.1.3)\n",
            "importing Jupyter notebook from reg_utils.ipynb\n"
          ],
          "name": "stdout"
        }
      ]
    },
    {
      "cell_type": "code",
      "metadata": {
        "id": "-eBVd53hOdkI",
        "colab_type": "code",
        "outputId": "4f0a7b5f-b21e-43f2-95b5-ad7e1ba199c3",
        "colab": {
          "base_uri": "https://localhost:8080/",
          "height": 51
        }
      },
      "source": [
        "#import files \"optimizers.ipynb\" from google drive\n",
        "import_files_from_gdrive(\"10eDiBVV-x6-j_8pyByqwoACnOGYm7IKg\", \"optimizers.ipynb\") #passing file_id, file_name stored in google drive\n",
        "\n",
        "#reloading imported files to reflect changes in the files\n",
        "import optimizers\n",
        "from importlib import reload\n",
        "optimizers = reload(optimizers)"
      ],
      "execution_count": 0,
      "outputs": [
        {
          "output_type": "stream",
          "text": [
            "Requirement already satisfied: import-ipynb in /usr/local/lib/python3.6/dist-packages (0.1.3)\n",
            "importing Jupyter notebook from optimizers.ipynb\n"
          ],
          "name": "stdout"
        }
      ]
    },
    {
      "cell_type": "code",
      "metadata": {
        "id": "vcdA_sX6OuFc",
        "colab_type": "code",
        "outputId": "d57588c2-1326-4ec9-ac40-4750bda36f88",
        "colab": {
          "base_uri": "https://localhost:8080/",
          "height": 170
        }
      },
      "source": [
        "#building mini-batch gradient descent deep learning model from scratch\n",
        "import os\n",
        "import numpy as np\n",
        "import pickle\n",
        "from matplotlib import pyplot as pltcom\n",
        "import cv2\n",
        "import keras\n",
        "from sklearn.model_selection import train_test_split\n",
        "from reg_utils import *\n",
        "from optimizers import *\n",
        "\n",
        "#loading_dataset_and_dividing_into_train_test_sets\n",
        "FEATURES_PATH_TRAIN = \"/content/gdrive/My Drive/colab_notebooks_deeplearning_prac/cats_dogs_predictions/X_train.pickle\"\n",
        "LABELS_PATH_TRAIN = \"/content/gdrive/My Drive/colab_notebooks_deeplearning_prac/cats_dogs_predictions/Y_train.pickle\"\n",
        "FEATURES_PATH_TEST = \"/content/gdrive/My Drive/colab_notebooks_deeplearning_prac/cats_dogs_predictions/X_test.pickle\" \n",
        "LABELS_PATH_TEST = \"/content/gdrive/My Drive/colab_notebooks_deeplearning_prac/cats_dogs_predictions/Y_test.pickle\"\n",
        "print(\"loading traning datasets!!!\")\n",
        "X_train, Y_train = load_datasets(FEATURES_PATH_TRAIN, LABELS_PATH_TRAIN)#loading_datasets\n",
        "print(\"loaded training datasets...\")\n",
        "\n",
        "print(\"loading testing datasets!!!\")\n",
        "X_test, Y_test = load_datasets(FEATURES_PATH_TEST, LABELS_PATH_TEST)\n",
        "print(\"loaded testing datasets\")\n",
        "\n",
        "print(\"checking shapes...\")\n",
        "print(X_train.shape)\n",
        "print(X_test.shape)\n",
        "print(Y_train.shape)\n",
        "print(Y_test.shape)"
      ],
      "execution_count": 0,
      "outputs": [
        {
          "output_type": "stream",
          "text": [
            "loading traning datasets!!!\n",
            "loaded training datasets...\n",
            "loading testing datasets!!!\n",
            "loaded testing datasets\n",
            "checking shapes...\n",
            "(49152, 8014)\n",
            "(49152, 2022)\n",
            "(1, 8014)\n",
            "(1, 2022)\n"
          ],
          "name": "stdout"
        }
      ]
    },
    {
      "cell_type": "code",
      "metadata": {
        "id": "4vdlhW76QXKK",
        "colab_type": "code",
        "colab": {}
      },
      "source": [
        "import math\n",
        "#create_batches_from_the_training_sets_before_training_the_model\n",
        "def random_batches(X, Y, mini_batch_size=64):\n",
        "  '''\n",
        "  creates a list of random minibatches from the set (X, Y)\n",
        "\n",
        "  Arguments:\n",
        "  X -- input data of shape,(input_size, number_of_examples)\n",
        "  Y -- true label vector of shape(1, number_of_examples)\n",
        "  mini_batch_size -- size of the mini-batches integer\n",
        "\n",
        "  Returns:\n",
        "  mini_batches -- list of synchronous,(mini_batch_x, mini_batch_y)\n",
        "  '''\n",
        "  np.random.seed(1)\n",
        "  m = X.shape[1]\n",
        "  mini_batches = []\n",
        "\n",
        "  # step1-shuffle\n",
        "  permutation = list(np.random.permutation(m))\n",
        "  shuffled_X = X[:, permutation]\n",
        "  shuffled_Y = Y[:, permutation].reshape((1, m))\n",
        "  # shuffled_X = X\n",
        "  # shuffled_Y = Y\n",
        "  #step2-partition shuffled_x, shuffled_Y\n",
        "  num_complete_mini_batches = math.floor(m/mini_batch_size) #num of minibatches of size mini batch\n",
        "\n",
        "  for k in range(0 ,num_complete_mini_batches):\n",
        "    mini_batch_X = shuffled_X[:, (k*mini_batch_size):((k+1)*mini_batch_size)]\n",
        "    mini_batch_Y = shuffled_Y[:, (k*mini_batch_size):((k+1)*mini_batch_size)]\n",
        "    \n",
        "    mini_batch = (mini_batch_X, mini_batch_Y)\n",
        "    mini_batches.append(mini_batch)\n",
        "  \n",
        "  if((m%mini_batch_size) != 0):\n",
        "    mini_batch_X = shuffled_X[:, (num_complete_mini_batches*mini_batch_size):m]\n",
        "    mini_batch_Y = shuffled_Y[:, (num_complete_mini_batches*mini_batch_size):m]\n",
        "\n",
        "    mini_batch = (mini_batch_X, mini_batch_Y)\n",
        "    mini_batches.append(mini_batch)\n",
        "\n",
        "  return mini_batches\n"
      ],
      "execution_count": 0,
      "outputs": []
    },
    {
      "cell_type": "code",
      "metadata": {
        "id": "d9U99quNOwzC",
        "colab_type": "code",
        "colab": {}
      },
      "source": [
        "#wrapping_up_nn_process_into_single_functions\n",
        "def minibatch_gradient_descent_model(X, Y, layers_dims, optimizer, learning_rate=0.001, num_iteration=100, lambd=0, keep_prob=1, mini_batch=32, beta1=0.9, beta2=0.999, epsilon=math.pow(10, -8),print_cost=False):\n",
        "  '''\n",
        "  Implements the L-layer neural network\n",
        "  Arguments:\n",
        "  X_train -- dataset, numpy array of shape(num_px*num_px*3, 1)\n",
        "  Y_train -- label sets, numpy array of shape(1, number_of_examples)\n",
        "  layer_dims -- dimensions of number of layer in the network\n",
        "  learning_rate -- number of iterations of the optimization loop\n",
        "  num_iteration -- number of iteration of the optimization loop\n",
        "  print_cost -- if true, it prints the cost\n",
        "\n",
        "  return:\n",
        "  parameters -- parameters learnt by the model.They can the be used to predict \n",
        "  '''\n",
        "  costs = []\n",
        "  m = X.shape[1]\n",
        "  t = 0\n",
        "  parameters = initialize_paramters_deep(layers_dims)\n",
        "  initial_learning_rate = learning_rate\n",
        "\n",
        "  if(optimizer == 'gd'):\n",
        "    #no any initialization is required for  gradient decent optimization process\n",
        "    pass\n",
        "  \n",
        "  elif(optimizer == 'adam'):\n",
        "    #initializing adam optimizer\n",
        "    v, s = initialize_adam(parameters)\n",
        "\n",
        "  for i in range(num_iteration):\n",
        "    mini_batches = random_batches(X, Y)\n",
        "    cost_total = 0\n",
        "    for mini_batch in mini_batches:\n",
        "      mini_batch_X, mini_batch_Y = mini_batch\n",
        "          #propagating_forward_in_the_network\n",
        "\n",
        "      if(keep_prob==1):\n",
        "        AL, caches = L_model_forward(mini_batch_X, parameters)\n",
        "\n",
        "      elif(keep_prob<1):\n",
        "        AL, caches = L_model_forward(mini_batch_X, parameters, keep_prob)\n",
        "\n",
        "      else:\n",
        "        pass\n",
        "\n",
        "\n",
        "      #compute_cost\n",
        "      if(lambd==0):\n",
        "        #compute_cost_without_regularization\n",
        "        cost_total += compute_cost(AL,mini_batch_Y)\n",
        "\n",
        "      else:\n",
        "        #compute_cost_without_regularization\n",
        "        cost_total += compute_cost_with_regularization(AL, mini_batch_Y, parameters, lambd)\n",
        "\n",
        "      assert(lambd==0 or keep_prob==1)#it is possible to use both regularization and dropout but this project will explore only one at a time\n",
        "      \n",
        "      #propagating_backward_in_the_network\n",
        "      grads = L_model_backward(AL, mini_batch_Y, caches, lambd, keep_prob)\n",
        "\n",
        "      if(optimizer == 'gd'):\n",
        "        parameters = update_parameters(parameters, grads, learning_rate)\n",
        "\n",
        "      elif(optimizer == 'adam'):\n",
        "        t = t+1 #t_count_for_adam\n",
        "        parameters, v, s = update_parameters_with_adam(parameters, grads, v, s, t, learning_rate, beta1, beta2, epsilon)\n",
        "   \n",
        "    cost_avg = cost_total/m\n",
        "    if (i%10 == 0) and (print_cost == True):\n",
        "      print(\"cost after iteration {} is {}\".format(i, cost_avg))\n",
        "      # learning_rate = initial_learning_rate * (1/(1+(0.01*i)))\n",
        "    \n",
        "\n",
        "    costs.append(cost_avg)\n",
        "  return parameters, costs"
      ],
      "execution_count": 0,
      "outputs": []
    },
    {
      "cell_type": "code",
      "metadata": {
        "id": "-dK8vN_Jh6GI",
        "colab_type": "code",
        "outputId": "5bc064c2-9047-48ee-9f99-3d330cecfcbc",
        "colab": {
          "base_uri": "https://localhost:8080/",
          "height": 360
        }
      },
      "source": [
        "# layers_dims = [49152, 64, 32, 16, 1] #  4-layer model\n",
        "layers_dims = [49152, 32, 16, 1]\n",
        "parameters, cost = minibatch_gradient_descent_model(X_train, Y_train, layers_dims, optimizer=\"adam\", learning_rate=0.001, num_iteration=250, lambd=0.001, epsilon=math.pow(10, -7), print_cost=True)"
      ],
      "execution_count": 0,
      "outputs": [
        {
          "output_type": "stream",
          "text": [
            "cost after iteration 0 is 0.01403569524551162\n",
            "cost after iteration 10 is 0.010209972667544006\n",
            "cost after iteration 20 is 0.009501021254406323\n",
            "cost after iteration 30 is 0.008982501384335413\n"
          ],
          "name": "stdout"
        },
        {
          "output_type": "error",
          "ename": "KeyboardInterrupt",
          "evalue": "ignored",
          "traceback": [
            "\u001b[0;31m---------------------------------------------------------------------------\u001b[0m",
            "\u001b[0;31mKeyboardInterrupt\u001b[0m                         Traceback (most recent call last)",
            "\u001b[0;32m<ipython-input-29-bbd119a80d49>\u001b[0m in \u001b[0;36m<module>\u001b[0;34m()\u001b[0m\n\u001b[1;32m      1\u001b[0m \u001b[0mlayers_dims\u001b[0m \u001b[0;34m=\u001b[0m \u001b[0;34m[\u001b[0m\u001b[0;36m49152\u001b[0m\u001b[0;34m,\u001b[0m \u001b[0;36m32\u001b[0m\u001b[0;34m,\u001b[0m \u001b[0;36m16\u001b[0m\u001b[0;34m,\u001b[0m \u001b[0;36m1\u001b[0m\u001b[0;34m]\u001b[0m\u001b[0;34m\u001b[0m\u001b[0;34m\u001b[0m\u001b[0m\n\u001b[0;32m----> 2\u001b[0;31m \u001b[0mparameters\u001b[0m\u001b[0;34m,\u001b[0m \u001b[0mcost\u001b[0m \u001b[0;34m=\u001b[0m \u001b[0mminibatch_gradient_descent_model\u001b[0m\u001b[0;34m(\u001b[0m\u001b[0mX_train\u001b[0m\u001b[0;34m,\u001b[0m \u001b[0mY_train\u001b[0m\u001b[0;34m,\u001b[0m \u001b[0mlayers_dims\u001b[0m\u001b[0;34m,\u001b[0m \u001b[0moptimizer\u001b[0m\u001b[0;34m=\u001b[0m\u001b[0;34m\"adam\"\u001b[0m\u001b[0;34m,\u001b[0m \u001b[0mlearning_rate\u001b[0m\u001b[0;34m=\u001b[0m\u001b[0;36m0.001\u001b[0m\u001b[0;34m,\u001b[0m \u001b[0mnum_iteration\u001b[0m\u001b[0;34m=\u001b[0m\u001b[0;36m250\u001b[0m\u001b[0;34m,\u001b[0m \u001b[0mlambd\u001b[0m\u001b[0;34m=\u001b[0m\u001b[0;36m0.001\u001b[0m\u001b[0;34m,\u001b[0m \u001b[0mepsilon\u001b[0m\u001b[0;34m=\u001b[0m\u001b[0mmath\u001b[0m\u001b[0;34m.\u001b[0m\u001b[0mpow\u001b[0m\u001b[0;34m(\u001b[0m\u001b[0;36m10\u001b[0m\u001b[0;34m,\u001b[0m \u001b[0;34m-\u001b[0m\u001b[0;36m7\u001b[0m\u001b[0;34m)\u001b[0m\u001b[0;34m,\u001b[0m \u001b[0mprint_cost\u001b[0m\u001b[0;34m=\u001b[0m\u001b[0;32mTrue\u001b[0m\u001b[0;34m)\u001b[0m\u001b[0;34m\u001b[0m\u001b[0;34m\u001b[0m\u001b[0m\n\u001b[0m",
            "\u001b[0;32m<ipython-input-28-909bae9b61ff>\u001b[0m in \u001b[0;36mminibatch_gradient_descent_model\u001b[0;34m(X, Y, layers_dims, optimizer, learning_rate, num_iteration, lambd, keep_prob, mini_batch, beta1, beta2, epsilon, print_cost)\u001b[0m\n\u001b[1;32m     56\u001b[0m \u001b[0;34m\u001b[0m\u001b[0m\n\u001b[1;32m     57\u001b[0m       \u001b[0;31m#propagating_backward_in_the_network\u001b[0m\u001b[0;34m\u001b[0m\u001b[0;34m\u001b[0m\u001b[0;34m\u001b[0m\u001b[0m\n\u001b[0;32m---> 58\u001b[0;31m       \u001b[0mgrads\u001b[0m \u001b[0;34m=\u001b[0m \u001b[0mL_model_backward\u001b[0m\u001b[0;34m(\u001b[0m\u001b[0mAL\u001b[0m\u001b[0;34m,\u001b[0m \u001b[0mmini_batch_Y\u001b[0m\u001b[0;34m,\u001b[0m \u001b[0mcaches\u001b[0m\u001b[0;34m,\u001b[0m \u001b[0mlambd\u001b[0m\u001b[0;34m,\u001b[0m \u001b[0mkeep_prob\u001b[0m\u001b[0;34m)\u001b[0m\u001b[0;34m\u001b[0m\u001b[0;34m\u001b[0m\u001b[0m\n\u001b[0m\u001b[1;32m     59\u001b[0m \u001b[0;34m\u001b[0m\u001b[0m\n\u001b[1;32m     60\u001b[0m       \u001b[0;32mif\u001b[0m\u001b[0;34m(\u001b[0m\u001b[0moptimizer\u001b[0m \u001b[0;34m==\u001b[0m \u001b[0;34m'gd'\u001b[0m\u001b[0;34m)\u001b[0m\u001b[0;34m:\u001b[0m\u001b[0;34m\u001b[0m\u001b[0;34m\u001b[0m\u001b[0m\n",
            "\u001b[0;32m/content/reg_utils.ipynb\u001b[0m in \u001b[0;36mL_model_backward\u001b[0;34m(AL, Y, caches, lambd, keep_prob)\u001b[0m\n",
            "\u001b[0;32m/content/reg_utils.ipynb\u001b[0m in \u001b[0;36mlinear_activation_backward\u001b[0;34m(dA, cache, activation, lambd, keep_prob)\u001b[0m\n",
            "\u001b[0;32m/content/reg_utils.ipynb\u001b[0m in \u001b[0;36mlinear_backward\u001b[0;34m(dZ, cache, lambd)\u001b[0m\n",
            "\u001b[0;32m<__array_function__ internals>\u001b[0m in \u001b[0;36mdot\u001b[0;34m(*args, **kwargs)\u001b[0m\n",
            "\u001b[0;31mKeyboardInterrupt\u001b[0m: "
          ]
        }
      ]
    },
    {
      "cell_type": "code",
      "metadata": {
        "id": "83-VvHnRdUM1",
        "colab_type": "code",
        "colab": {}
      },
      "source": [
        "#import files \"metrics.ipynb\" from google drive\n",
        "import_files_from_gdrive(\"1TFeZIP2rUFyev0Tc0-HTreCAYskMmRCE\", \"metrics.ipynb\") #passing file_id, file_name stored in google drive\n",
        "\n",
        "#reloading imported files to reflect changes in the files\n",
        "import metrics\n",
        "from importlib import reload\n",
        "metrics = reload(metrics)"
      ],
      "execution_count": 0,
      "outputs": []
    },
    {
      "cell_type": "code",
      "metadata": {
        "id": "IAylobUedZ1l",
        "colab_type": "code",
        "outputId": "3d54fec6-a01f-40a1-9e2d-5d480cca3cdd",
        "colab": {
          "base_uri": "https://localhost:8080/",
          "height": 312
        }
      },
      "source": [
        "from metrics import *\n",
        "print(\"plotting_costs\")\n",
        "plot_cost(cost)"
      ],
      "execution_count": 0,
      "outputs": [
        {
          "output_type": "stream",
          "text": [
            "plotting_costs\n"
          ],
          "name": "stdout"
        },
        {
          "output_type": "display_data",
          "data": {
            "image/png": "[encoded data removed]",
            "text/plain": [
              "<Figure size 432x288 with 1 Axes>"
            ]
          },
          "metadata": {
            "tags": [],
            "needs_background": "light"
          }
        }
      ]
    },
    {
      "cell_type": "code",
      "metadata": {
        "id": "p0rJI4lPtVyJ",
        "colab_type": "code",
        "outputId": "bbccbfbc-3605-40b1-b8a8-39dfb0856339",
        "colab": {
          "base_uri": "https://localhost:8080/",
          "height": 51
        }
      },
      "source": [
        "\n",
        "#printing_train_accuracy_of_the_model\n",
        "predictions = predict((parameters), X_train)\n",
        "print(predictions.shape)\n",
        "print(calculate_accuracy(Y_train, predictions, \"train\"))"
      ],
      "execution_count": 0,
      "outputs": [
        {
          "output_type": "stream",
          "text": [
            "(1, 8014)\n",
            "train_accuracy: 74%\n"
          ],
          "name": "stdout"
        }
      ]
    },
    {
      "cell_type": "code",
      "metadata": {
        "id": "NTKWs36xtZzC",
        "colab_type": "code",
        "outputId": "9b6dd1ed-c0d9-4da4-9584-6ddac1eafaf4",
        "colab": {
          "base_uri": "https://localhost:8080/",
          "height": 51
        }
      },
      "source": [
        "#printing_test_accuracy_of_the_model\n",
        "predictions_test = predict(parameters, X_test)\n",
        "print(predictions_test.shape)\n",
        "print(calculate_accuracy(Y_test, predictions_test, \"test\"))"
      ],
      "execution_count": 0,
      "outputs": [
        {
          "output_type": "stream",
          "text": [
            "(1, 2022)\n",
            "test_accuracy: 56%\n"
          ],
          "name": "stdout"
        }
      ]
    },
    {
      "cell_type": "code",
      "metadata": {
        "id": "YyGN6sa7rH0H",
        "colab_type": "code",
        "colab": {}
      },
      "source": [
        "\n",
        "#prediction on new data\n",
        "import cv2\n",
        "new_image = cv2.imread(\"/content/gdrive/My Drive/colab_notebooks_deeplearning_prac/cats_dogs_predictions/datasets/training_set/cats/cat.1.jpg\") #read image data from given path\n",
        "new_image = new_image/255 #normalizing the data\n",
        "new_image = cv2.resize(new_image, (128, 128)) #resize based on training data\n",
        "prediction = predict(parameters, new_image) #prediction on resized data \n",
        "print(prediction)"
      ],
      "execution_count": 0,
      "outputs": []
    },
    {
      "cell_type": "code",
      "metadata": {
        "id": "6KpBKs9Ca-HN",
        "colab_type": "code",
        "colab": {}
      },
      "source": [
        "r = -4*np.random.rand(5)\n",
        "print(r)"
      ],
      "execution_count": 0,
      "outputs": []
    },
    {
      "cell_type": "code",
      "metadata": {
        "id": "SKKJXmLLMflY",
        "colab_type": "code",
        "colab": {}
      },
      "source": [
        ""
      ],
      "execution_count": 0,
      "outputs": []
    }
  ]
}